{
 "cells": [
  {
   "cell_type": "code",
   "execution_count": 1,
   "metadata": {},
   "outputs": [],
   "source": [
    "import pyproj\n",
    "\n",
    "\n",
    "_projections = {}\n",
    "\n",
    "\n",
    "def zone(coordinates):\n",
    "    if 56 <= coordinates[1] < 64 and 3 <= coordinates[0] < 12:\n",
    "        return 32\n",
    "    if 72 <= coordinates[1] < 84 and 0 <= coordinates[0] < 42:\n",
    "        if coordinates[0] < 9:\n",
    "            return 31\n",
    "        elif coordinates[0] < 21:\n",
    "            return 33\n",
    "        elif coordinates[0] < 33:\n",
    "            return 35\n",
    "        return 37\n",
    "    return int((coordinates[0] + 180) / 6) + 1\n",
    "\n",
    "\n",
    "def letter(coordinates):\n",
    "    return 'CDEFGHJKLMNPQRSTUVWXX'[int((coordinates[1] + 80) / 8)]\n",
    "\n",
    "\n",
    "def project(coordinates):\n",
    "    z = zone(coordinates)\n",
    "    l = letter(coordinates)\n",
    "    if z not in _projections:\n",
    "        _projections[z] = pyproj.Proj(proj='utm', zone=z, ellps='WGS84')\n",
    "    x, y = _projections[z](coordinates[0], coordinates[1])\n",
    "    if y < 0:\n",
    "        y += 10000000\n",
    "    return z, l, x, y\n",
    "\n",
    "\n",
    "def unproject(z, l, x, y):\n",
    "    if z not in _projections:\n",
    "        _projections[z] = pyproj.Proj(proj='utm', zone=z, ellps='WGS84')\n",
    "    if l < 'N':\n",
    "        y -= 10000000\n",
    "    lng, lat = _projections[z](x, y, inverse=True)\n",
    "    return (lng, lat)"
   ]
  },
  {
   "cell_type": "code",
   "execution_count": 4,
   "metadata": {},
   "outputs": [
    {
     "name": "stdout",
     "output_type": "stream",
     "text": [
      "60 H 416695.37487370445 5725569.989406463\n"
     ]
    }
   ],
   "source": [
    "coord = [176.043142, -38.614475]\n",
    "z, l, x, y = project(coord)\n",
    "print(z, l, x, y)"
   ]
  }
 ],
 "metadata": {
  "kernelspec": {
   "display_name": "Python 3",
   "language": "python",
   "name": "python3"
  },
  "language_info": {
   "codemirror_mode": {
    "name": "ipython",
    "version": 3
   },
   "file_extension": ".py",
   "mimetype": "text/x-python",
   "name": "python",
   "nbconvert_exporter": "python",
   "pygments_lexer": "ipython3",
   "version": "3.7.4"
  }
 },
 "nbformat": 4,
 "nbformat_minor": 2
}
